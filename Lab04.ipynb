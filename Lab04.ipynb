{
 "cells": [
  {
   "cell_type": "code",
   "execution_count": 1,
   "metadata": {},
   "outputs": [],
   "source": [
    "# Get cc number\n",
    "cc = '5105105105105100'"
   ]
  },
  {
   "cell_type": "code",
   "execution_count": 2,
   "metadata": {},
   "outputs": [
    {
     "data": {
      "text/plain": [
       "[0, 0, 1, 5, 0, 1, 5, 0, 1, 5, 0, 1, 5, 0, 1, 5]"
      ]
     },
     "execution_count": 2,
     "metadata": {},
     "output_type": "execute_result"
    }
   ],
   "source": [
    "# Convert cc to list and reverse\n",
    "l = []\n",
    "for n in cc:\n",
    "    l.append(int(n))\n",
    "l.reverse()\n",
    "l"
   ]
  },
  {
   "cell_type": "code",
   "execution_count": 3,
   "metadata": {},
   "outputs": [
    {
     "data": {
      "text/plain": [
       "[0, 0, 2, 5, 0, 1, 1, 0, 2, 5, 0, 1, 1, 0, 2, 5]"
      ]
     },
     "execution_count": 3,
     "metadata": {},
     "output_type": "execute_result"
    }
   ],
   "source": [
    "def sum_digits(x):\n",
    "    s = 0\n",
    "    for a in str(x):\n",
    "        s += int(a)\n",
    "    return s\n",
    "\n",
    "# Double every second digit\n",
    "for i in range(0,int(len(l)/2)):\n",
    "    if 2*l[2*i] > 9:\n",
    "        l[2*i] = sum_digits(2*l[2*i]) \n",
    "    else:\n",
    "        l[2*i] = 2*l[2*i]\n",
    "l"
   ]
  },
  {
   "cell_type": "code",
   "execution_count": 4,
   "metadata": {},
   "outputs": [
    {
     "data": {
      "text/plain": [
       "25"
      ]
     },
     "execution_count": 4,
     "metadata": {},
     "output_type": "execute_result"
    }
   ],
   "source": [
    "# Sum all the digits except the first one\n",
    "s = sum(l[1:])\n",
    "s"
   ]
  },
  {
   "cell_type": "code",
   "execution_count": 5,
   "metadata": {},
   "outputs": [
    {
     "name": "stdout",
     "output_type": "stream",
     "text": [
      "225\n"
     ]
    },
    {
     "data": {
      "text/plain": [
       "5"
      ]
     },
     "execution_count": 5,
     "metadata": {},
     "output_type": "execute_result"
    }
   ],
   "source": [
    "# Multiply by 9 and remove the unit\n",
    "s = 9*s\n",
    "print(s)\n",
    "unit = int(str(s)[-1])\n",
    "unit"
   ]
  },
  {
   "cell_type": "code",
   "execution_count": 6,
   "metadata": {},
   "outputs": [
    {
     "name": "stdout",
     "output_type": "stream",
     "text": [
      "Invalid cc number.\n"
     ]
    }
   ],
   "source": [
    "# Match Check Digit (assuming it's the last digit of the cc)\n",
    "if unit == cc[-1]:\n",
    "    print('The cc number is valid.')\n",
    "else:\n",
    "    print('Invalid cc number.')"
   ]
  },
  {
   "cell_type": "code",
   "execution_count": null,
   "metadata": {},
   "outputs": [],
   "source": []
  }
 ],
 "metadata": {
  "kernelspec": {
   "display_name": "Python 3",
   "language": "python",
   "name": "python3"
  },
  "language_info": {
   "codemirror_mode": {
    "name": "ipython",
    "version": 3
   },
   "file_extension": ".py",
   "mimetype": "text/x-python",
   "name": "python",
   "nbconvert_exporter": "python",
   "pygments_lexer": "ipython3",
   "version": "3.8.1"
  }
 },
 "nbformat": 4,
 "nbformat_minor": 4
}
